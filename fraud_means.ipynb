{
 "cells": [
  {
   "cell_type": "code",
   "execution_count": null,
   "metadata": {
    "collapsed": true
   },
   "outputs": [],
   "source": [
    "import pandas as pd\n",
    "from sklearn.cluster import KMeans\n",
    "from scipy.cluster.hierarchy import linkage, dendrogram\n",
    "import matplotlib.pyplot as plt\n",
    "print('Start')\n",
    "# Import and store dataset\n",
    "data = pd.read_csv('./Data/creditcard.csv')\n",
    "print('Data')\n",
    "\n",
    "fraud = data.loc[data['Class'] == 1]\n",
    "nonfraud = data.loc[data['Class'] == 0]\n",
    "\n",
    "print('Analysis')\n",
    "\n",
    "#Drop all features that have like distributions\n",
    "unique = data.drop(['V28','V27','V26','V25','V24','V23','V22','V20','V15','V13','V8','Time'], axis=1)\n",
    "y = unique['Class']\n",
    "x = unique.drop(['Class'], axis=1)\n",
    " \n",
    "kmeans = KMeans(n_clusters=20)\n",
    "\n",
    "print('start fit_predict')\n",
    "result = kmeans.fit_predict(x)\n",
    "\n",
    "unique['result'] = result\n",
    "\n",
    "\n",
    " \n",
    "\n",
    "\n"
   ]
  },
  {
   "cell_type": "code",
   "execution_count": null,
   "metadata": {
    "collapsed": true
   },
   "outputs": [],
   "source": [
    "plt.hist(unique[unique['Class'] == 1], max(unique['result']))\n",
    "plt.show()\n",
    "\n",
    "plt.hist()\n",
    "\n",
    "\n",
    "print('done')"
   ]
  }
 ],
 "metadata": {
  "kernelspec": {
   "display_name": "Python 3",
   "language": "python",
   "name": "python3"
  },
  "language_info": {
   "codemirror_mode": {
    "name": "ipython",
    "version": 3
   },
   "file_extension": ".py",
   "mimetype": "text/x-python",
   "name": "python",
   "nbconvert_exporter": "python",
   "pygments_lexer": "ipython3",
   "version": "3.5.2"
  }
 },
 "nbformat": 4,
 "nbformat_minor": 0
}
