{
 "cells": [
  {
   "cell_type": "code",
   "execution_count": null,
   "metadata": {
    "collapsed": false
   },
   "outputs": [
    {
     "name": "stdout",
     "output_type": "stream",
     "text": [
      "Data\n"
     ]
    }
   ],
   "source": [
    "from sklearn.neighbors import LocalOutlierFactor\n",
    "from sklearn.ensemble import IsolationForest\n",
    "from sklearn.metrics import classification_report,  accuracy_score\n",
    "\n",
    "import pandas as pd\n",
    "import matplotlib.pyplot as plt\n",
    "\n",
    "state = 1\n",
    "\n",
    "data = pd.read_csv('./Data/creditcard.csv')\n",
    "print('Data')\n",
    "\n",
    "fraud = data[data['Class']==1]\n",
    "valid = data[data['Class']==0]\n",
    "\n",
    "outlier_fraction = len(fraud)/float(len(valid))\n",
    "\n",
    "corr = data.corr()\n",
    "cols = data.shape[1]\n",
    "\n",
    "fig, ax = plt.subplots(figsize=(cols, cols))\n",
    "ax.matshow(corr)\n",
    "plt.xticks(range(cols), corr.columns)\n",
    "plt.yticks(range(cols), corr.columns)\n",
    "plt.show()\n",
    "\n",
    "\n",
    "#unique = data.drop(['V28','V27','V26','V25','V24','V23','V22','V20','V15','V13','V8','Time','Amount'], axis=1)\n",
    "y = unique['Class']\n",
    "x = unique.drop(['Class'], axis=1)\n",
    "\n",
    "\n",
    "\n",
    "\n",
    "\n",
    "classifiers = {\n",
    "    \"Isolation Forrest\": IsolationForest(max_samples = len(x),contamination = outlier_fraction, random_state=state),\n",
    "    \"Local Outlier\": LocalOutlierFactor(n_neighbors=20,contamination=outlier_fraction)\n",
    "}\n",
    "\n",
    "\n"
   ]
  },
  {
   "cell_type": "code",
   "execution_count": null,
   "metadata": {
    "collapsed": false
   },
   "outputs": [
    {
     "name": "stdout",
     "output_type": "stream",
     "text": [
      "fit\n",
      "errors: Isolation Forrest 587\n",
      "0.9979389551520854\n",
      "             precision    recall  f1-score   support\n",
      "\n",
      "          0       1.00      1.00      1.00    284315\n",
      "          1       0.40      0.40      0.40       492\n",
      "\n",
      "avg / total       1.00      1.00      1.00    284807\n",
      "\n"
     ]
    }
   ],
   "source": [
    "print('fit')\n",
    "n_outliers = len(fraud)\n",
    "\n",
    "for i,(clf_name,clf) in enumerate(classifiers.items()):\n",
    "    if clf_name == 'Local Outlier':\n",
    "        y_pred = clf.fit_predict(x)\n",
    "        scores_pred = clf.negative_outlier_factor_\n",
    "    else:\n",
    "        clf.fit(x)\n",
    "        scores_pred = clf.decision_function(x)\n",
    "        y_pred = clf.predict(x)\n",
    "\n",
    "\n",
    "    #-1 is outlier,  1 is inlier,,, want 0 for valid and 1 for fraud\n",
    "    \n",
    "    y_pred[y_pred ==1] = 0\n",
    "    y_pred[y_pred ==-1] = 1\n",
    "    \n",
    "\n",
    "    #count errors\n",
    "    \n",
    "    errors = (y_pred != y).sum()\n",
    "    \n",
    "    print('errors:', clf_name,errors)\n",
    "    print(accuracy_score(y,y_pred))\n",
    "    print(classification_report(y,y_pred))\n"
   ]
  },
  {
   "cell_type": "code",
   "execution_count": null,
   "metadata": {
    "collapsed": true
   },
   "outputs": [],
   "source": []
  }
 ],
 "metadata": {
  "kernelspec": {
   "display_name": "Python 3",
   "language": "python",
   "name": "python3"
  },
  "language_info": {
   "codemirror_mode": {
    "name": "ipython",
    "version": 3
   },
   "file_extension": ".py",
   "mimetype": "text/x-python",
   "name": "python",
   "nbconvert_exporter": "python",
   "pygments_lexer": "ipython3",
   "version": "3.5.2"
  }
 },
 "nbformat": 4,
 "nbformat_minor": 0
}
